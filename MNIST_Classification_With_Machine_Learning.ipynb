{
  "cells": [
    {
      "cell_type": "markdown",
      "id": "a0108bfe",
      "metadata": {
        "papermill": {
          "duration": 0.011706,
          "end_time": "2023-03-24T21:39:54.508464",
          "exception": false,
          "start_time": "2023-03-24T21:39:54.496758",
          "status": "completed"
        },
        "tags": [],
        "id": "a0108bfe"
      },
      "source": [
        "# MNIST Digit Classification with Machine Learning\n",
        "\n",
        "### This project utilizes the MNIST dataset, a collection of handwritten digits (0-9) in image format. The goal is to build a model that can accurately identify the digit in an image based on its pixel values.\n",
        "### The dataset consists of 28x28 black-and-white images, with each image represented by 784 pixel values ranging from 0 to 255. The pixel values are provided in CSV files, with each row representing a single image.\n",
        "### ---\n",
        "**Syed A. Haider**"
      ]
    },
    {
      "cell_type": "markdown",
      "id": "e167aa7f",
      "metadata": {
        "papermill": {
          "duration": 0.010518,
          "end_time": "2023-03-24T21:39:54.529615",
          "exception": false,
          "start_time": "2023-03-24T21:39:54.519097",
          "status": "completed"
        },
        "tags": [],
        "id": "e167aa7f"
      },
      "source": [
        "# Preparing the Environment\n",
        "\n",
        "Importing NumPy, Pandas, and the Pyplot library of Matplotlib, `LogisticRegresion`, `DecisionTreeClassifier`, `RandomForestClassifier`, `KNeighborsClassifier`, `GridSearchCV`, `cross_val_score`, `cross_val_predict`, `classification_report`, and `confusion_matrix`."
      ]
    },
    {
      "cell_type": "code",
      "execution_count": null,
      "id": "ac803748",
      "metadata": {
        "_cell_guid": "b1076dfc-b9ad-4769-8c92-a6c4dae69d19",
        "_uuid": "8f2839f25d086af736a60e9eeb907d3b93b6e0e5",
        "execution": {
          "iopub.execute_input": "2023-03-24T21:39:54.552820Z",
          "iopub.status.busy": "2023-03-24T21:39:54.552417Z",
          "iopub.status.idle": "2023-03-24T21:39:56.637630Z",
          "shell.execute_reply": "2023-03-24T21:39:56.636033Z"
        },
        "papermill": {
          "duration": 2.101843,
          "end_time": "2023-03-24T21:39:56.641774",
          "exception": false,
          "start_time": "2023-03-24T21:39:54.539931",
          "status": "completed"
        },
        "tags": [],
        "id": "ac803748"
      },
      "outputs": [],
      "source": [
        "import numpy as np\n",
        "\n",
        "import matplotlib.pyplot as plt\n",
        "\n",
        "import pandas as pd\n",
        "\n",
        "from sklearn.linear_model import LogisticRegression\n",
        "\n",
        "from sklearn.tree import DecisionTreeClassifier\n",
        "\n",
        "from sklearn.ensemble import RandomForestClassifier\n",
        "\n",
        "from sklearn.neighbors import KNeighborsClassifier\n",
        "\n",
        "from sklearn.model_selection import GridSearchCV, cross_val_score, cross_val_predict\n",
        "\n",
        "from sklearn.metrics import classification_report, confusion_matrix"
      ]
    },
    {
      "cell_type": "markdown",
      "id": "29f50238",
      "metadata": {
        "papermill": {
          "duration": 0.011954,
          "end_time": "2023-03-24T21:39:56.664313",
          "exception": false,
          "start_time": "2023-03-24T21:39:56.652359",
          "status": "completed"
        },
        "tags": [],
        "id": "29f50238"
      },
      "source": [
        "Suppress scientific notation in NumPy arrays for better readability."
      ]
    },
    {
      "cell_type": "code",
      "execution_count": null,
      "id": "11db6fa0",
      "metadata": {
        "execution": {
          "iopub.execute_input": "2023-03-24T21:39:56.690153Z",
          "iopub.status.busy": "2023-03-24T21:39:56.689478Z",
          "iopub.status.idle": "2023-03-24T21:39:56.695491Z",
          "shell.execute_reply": "2023-03-24T21:39:56.694073Z"
        },
        "papermill": {
          "duration": 0.021765,
          "end_time": "2023-03-24T21:39:56.698294",
          "exception": false,
          "start_time": "2023-03-24T21:39:56.676529",
          "status": "completed"
        },
        "tags": [],
        "id": "11db6fa0"
      },
      "outputs": [],
      "source": [
        "np.set_printoptions(suppress=True)"
      ]
    },
    {
      "cell_type": "markdown",
      "id": "31b45b95",
      "metadata": {
        "papermill": {
          "duration": 0.01096,
          "end_time": "2023-03-24T21:39:56.720786",
          "exception": false,
          "start_time": "2023-03-24T21:39:56.709826",
          "status": "completed"
        },
        "tags": [],
        "id": "31b45b95"
      },
      "source": [
        "## Load and Explore Data\n",
        "\n",
        "Load the MNIST dataset from 'digit-recognizer/train.csv' into a Pandas DataFrame, shuffle the data for randomness, and display the first few rows for initial exploration."
      ]
    },
    {
      "cell_type": "code",
      "execution_count": null,
      "id": "8204f0cb",
      "metadata": {
        "execution": {
          "iopub.execute_input": "2023-03-24T21:39:56.746426Z",
          "iopub.status.busy": "2023-03-24T21:39:56.745999Z",
          "iopub.status.idle": "2023-03-24T21:40:01.463169Z",
          "shell.execute_reply": "2023-03-24T21:40:01.461458Z"
        },
        "papermill": {
          "duration": 4.734415,
          "end_time": "2023-03-24T21:40:01.467628",
          "exception": false,
          "start_time": "2023-03-24T21:39:56.733213",
          "status": "completed"
        },
        "tags": [],
        "id": "8204f0cb",
        "outputId": "085f73df-b360-4d17-a56a-4c18246ab17d"
      },
      "outputs": [
        {
          "name": "stdout",
          "output_type": "stream",
          "text": [
            "(42000, 785)\n"
          ]
        },
        {
          "data": {
            "text/html": [
              "<div>\n",
              "<style scoped>\n",
              "    .dataframe tbody tr th:only-of-type {\n",
              "        vertical-align: middle;\n",
              "    }\n",
              "\n",
              "    .dataframe tbody tr th {\n",
              "        vertical-align: top;\n",
              "    }\n",
              "\n",
              "    .dataframe thead th {\n",
              "        text-align: right;\n",
              "    }\n",
              "</style>\n",
              "<table border=\"1\" class=\"dataframe\">\n",
              "  <thead>\n",
              "    <tr style=\"text-align: right;\">\n",
              "      <th></th>\n",
              "      <th>label</th>\n",
              "      <th>pixel0</th>\n",
              "      <th>pixel1</th>\n",
              "      <th>pixel2</th>\n",
              "      <th>pixel3</th>\n",
              "      <th>pixel4</th>\n",
              "      <th>pixel5</th>\n",
              "      <th>pixel6</th>\n",
              "      <th>pixel7</th>\n",
              "      <th>pixel8</th>\n",
              "      <th>...</th>\n",
              "      <th>pixel774</th>\n",
              "      <th>pixel775</th>\n",
              "      <th>pixel776</th>\n",
              "      <th>pixel777</th>\n",
              "      <th>pixel778</th>\n",
              "      <th>pixel779</th>\n",
              "      <th>pixel780</th>\n",
              "      <th>pixel781</th>\n",
              "      <th>pixel782</th>\n",
              "      <th>pixel783</th>\n",
              "    </tr>\n",
              "  </thead>\n",
              "  <tbody>\n",
              "    <tr>\n",
              "      <th>29633</th>\n",
              "      <td>1</td>\n",
              "      <td>0</td>\n",
              "      <td>0</td>\n",
              "      <td>0</td>\n",
              "      <td>0</td>\n",
              "      <td>0</td>\n",
              "      <td>0</td>\n",
              "      <td>0</td>\n",
              "      <td>0</td>\n",
              "      <td>0</td>\n",
              "      <td>...</td>\n",
              "      <td>0</td>\n",
              "      <td>0</td>\n",
              "      <td>0</td>\n",
              "      <td>0</td>\n",
              "      <td>0</td>\n",
              "      <td>0</td>\n",
              "      <td>0</td>\n",
              "      <td>0</td>\n",
              "      <td>0</td>\n",
              "      <td>0</td>\n",
              "    </tr>\n",
              "    <tr>\n",
              "      <th>345</th>\n",
              "      <td>5</td>\n",
              "      <td>0</td>\n",
              "      <td>0</td>\n",
              "      <td>0</td>\n",
              "      <td>0</td>\n",
              "      <td>0</td>\n",
              "      <td>0</td>\n",
              "      <td>0</td>\n",
              "      <td>0</td>\n",
              "      <td>0</td>\n",
              "      <td>...</td>\n",
              "      <td>0</td>\n",
              "      <td>0</td>\n",
              "      <td>0</td>\n",
              "      <td>0</td>\n",
              "      <td>0</td>\n",
              "      <td>0</td>\n",
              "      <td>0</td>\n",
              "      <td>0</td>\n",
              "      <td>0</td>\n",
              "      <td>0</td>\n",
              "    </tr>\n",
              "    <tr>\n",
              "      <th>36369</th>\n",
              "      <td>2</td>\n",
              "      <td>0</td>\n",
              "      <td>0</td>\n",
              "      <td>0</td>\n",
              "      <td>0</td>\n",
              "      <td>0</td>\n",
              "      <td>0</td>\n",
              "      <td>0</td>\n",
              "      <td>0</td>\n",
              "      <td>0</td>\n",
              "      <td>...</td>\n",
              "      <td>0</td>\n",
              "      <td>0</td>\n",
              "      <td>0</td>\n",
              "      <td>0</td>\n",
              "      <td>0</td>\n",
              "      <td>0</td>\n",
              "      <td>0</td>\n",
              "      <td>0</td>\n",
              "      <td>0</td>\n",
              "      <td>0</td>\n",
              "    </tr>\n",
              "    <tr>\n",
              "      <th>16624</th>\n",
              "      <td>8</td>\n",
              "      <td>0</td>\n",
              "      <td>0</td>\n",
              "      <td>0</td>\n",
              "      <td>0</td>\n",
              "      <td>0</td>\n",
              "      <td>0</td>\n",
              "      <td>0</td>\n",
              "      <td>0</td>\n",
              "      <td>0</td>\n",
              "      <td>...</td>\n",
              "      <td>0</td>\n",
              "      <td>0</td>\n",
              "      <td>0</td>\n",
              "      <td>0</td>\n",
              "      <td>0</td>\n",
              "      <td>0</td>\n",
              "      <td>0</td>\n",
              "      <td>0</td>\n",
              "      <td>0</td>\n",
              "      <td>0</td>\n",
              "    </tr>\n",
              "    <tr>\n",
              "      <th>14389</th>\n",
              "      <td>4</td>\n",
              "      <td>0</td>\n",
              "      <td>0</td>\n",
              "      <td>0</td>\n",
              "      <td>0</td>\n",
              "      <td>0</td>\n",
              "      <td>0</td>\n",
              "      <td>0</td>\n",
              "      <td>0</td>\n",
              "      <td>0</td>\n",
              "      <td>...</td>\n",
              "      <td>0</td>\n",
              "      <td>0</td>\n",
              "      <td>0</td>\n",
              "      <td>0</td>\n",
              "      <td>0</td>\n",
              "      <td>0</td>\n",
              "      <td>0</td>\n",
              "      <td>0</td>\n",
              "      <td>0</td>\n",
              "      <td>0</td>\n",
              "    </tr>\n",
              "  </tbody>\n",
              "</table>\n",
              "<p>5 rows × 785 columns</p>\n",
              "</div>"
            ],
            "text/plain": [
              "       label  pixel0  pixel1  pixel2  pixel3  pixel4  pixel5  pixel6  pixel7  \\\n",
              "29633      1       0       0       0       0       0       0       0       0   \n",
              "345        5       0       0       0       0       0       0       0       0   \n",
              "36369      2       0       0       0       0       0       0       0       0   \n",
              "16624      8       0       0       0       0       0       0       0       0   \n",
              "14389      4       0       0       0       0       0       0       0       0   \n",
              "\n",
              "       pixel8  ...  pixel774  pixel775  pixel776  pixel777  pixel778  \\\n",
              "29633       0  ...         0         0         0         0         0   \n",
              "345         0  ...         0         0         0         0         0   \n",
              "36369       0  ...         0         0         0         0         0   \n",
              "16624       0  ...         0         0         0         0         0   \n",
              "14389       0  ...         0         0         0         0         0   \n",
              "\n",
              "       pixel779  pixel780  pixel781  pixel782  pixel783  \n",
              "29633         0         0         0         0         0  \n",
              "345           0         0         0         0         0  \n",
              "36369         0         0         0         0         0  \n",
              "16624         0         0         0         0         0  \n",
              "14389         0         0         0         0         0  \n",
              "\n",
              "[5 rows x 785 columns]"
            ]
          },
          "execution_count": 3,
          "metadata": {},
          "output_type": "execute_result"
        }
      ],
      "source": [
        "# 1A\n",
        "dr_train = pd.read_csv('train.csv')\n",
        "dr_train = dr_train.sample(frac=1, random_state=1)\n",
        "print(dr_train.shape)\n",
        "dr_train.head()"
      ]
    },
    {
      "cell_type": "markdown",
      "id": "9eb3b988",
      "metadata": {
        "papermill": {
          "duration": 0.012532,
          "end_time": "2023-03-24T21:40:01.493250",
          "exception": false,
          "start_time": "2023-03-24T21:40:01.480718",
          "status": "completed"
        },
        "tags": [],
        "id": "9eb3b988"
      },
      "source": [
        "To optimize computational resources, a subset of 10,000 observations is used for hyperparameter tuning and model selection.\n",
        "\n",
        "Randomly sample 10,000 observations for efficiency"
      ]
    },
    {
      "cell_type": "code",
      "execution_count": null,
      "id": "6e935837",
      "metadata": {
        "execution": {
          "iopub.execute_input": "2023-03-24T21:40:01.521699Z",
          "iopub.status.busy": "2023-03-24T21:40:01.519929Z",
          "iopub.status.idle": "2023-03-24T21:40:01.612358Z",
          "shell.execute_reply": "2023-03-24T21:40:01.610082Z"
        },
        "papermill": {
          "duration": 0.11205,
          "end_time": "2023-03-24T21:40:01.617582",
          "exception": false,
          "start_time": "2023-03-24T21:40:01.505532",
          "status": "completed"
        },
        "tags": [],
        "id": "6e935837",
        "outputId": "7bc69097-22c2-4bfc-d91c-c403d46e2818"
      },
      "outputs": [
        {
          "data": {
            "text/html": [
              "<div>\n",
              "<style scoped>\n",
              "    .dataframe tbody tr th:only-of-type {\n",
              "        vertical-align: middle;\n",
              "    }\n",
              "\n",
              "    .dataframe tbody tr th {\n",
              "        vertical-align: top;\n",
              "    }\n",
              "\n",
              "    .dataframe thead th {\n",
              "        text-align: right;\n",
              "    }\n",
              "</style>\n",
              "<table border=\"1\" class=\"dataframe\">\n",
              "  <thead>\n",
              "    <tr style=\"text-align: right;\">\n",
              "      <th></th>\n",
              "      <th>label</th>\n",
              "      <th>pixel0</th>\n",
              "      <th>pixel1</th>\n",
              "      <th>pixel2</th>\n",
              "      <th>pixel3</th>\n",
              "      <th>pixel4</th>\n",
              "      <th>pixel5</th>\n",
              "      <th>pixel6</th>\n",
              "      <th>pixel7</th>\n",
              "      <th>pixel8</th>\n",
              "      <th>...</th>\n",
              "      <th>pixel774</th>\n",
              "      <th>pixel775</th>\n",
              "      <th>pixel776</th>\n",
              "      <th>pixel777</th>\n",
              "      <th>pixel778</th>\n",
              "      <th>pixel779</th>\n",
              "      <th>pixel780</th>\n",
              "      <th>pixel781</th>\n",
              "      <th>pixel782</th>\n",
              "      <th>pixel783</th>\n",
              "    </tr>\n",
              "  </thead>\n",
              "  <tbody>\n",
              "    <tr>\n",
              "      <th>10172</th>\n",
              "      <td>1</td>\n",
              "      <td>0</td>\n",
              "      <td>0</td>\n",
              "      <td>0</td>\n",
              "      <td>0</td>\n",
              "      <td>0</td>\n",
              "      <td>0</td>\n",
              "      <td>0</td>\n",
              "      <td>0</td>\n",
              "      <td>0</td>\n",
              "      <td>...</td>\n",
              "      <td>0</td>\n",
              "      <td>0</td>\n",
              "      <td>0</td>\n",
              "      <td>0</td>\n",
              "      <td>0</td>\n",
              "      <td>0</td>\n",
              "      <td>0</td>\n",
              "      <td>0</td>\n",
              "      <td>0</td>\n",
              "      <td>0</td>\n",
              "    </tr>\n",
              "    <tr>\n",
              "      <th>37551</th>\n",
              "      <td>7</td>\n",
              "      <td>0</td>\n",
              "      <td>0</td>\n",
              "      <td>0</td>\n",
              "      <td>0</td>\n",
              "      <td>0</td>\n",
              "      <td>0</td>\n",
              "      <td>0</td>\n",
              "      <td>0</td>\n",
              "      <td>0</td>\n",
              "      <td>...</td>\n",
              "      <td>0</td>\n",
              "      <td>0</td>\n",
              "      <td>0</td>\n",
              "      <td>0</td>\n",
              "      <td>0</td>\n",
              "      <td>0</td>\n",
              "      <td>0</td>\n",
              "      <td>0</td>\n",
              "      <td>0</td>\n",
              "      <td>0</td>\n",
              "    </tr>\n",
              "    <tr>\n",
              "      <th>13256</th>\n",
              "      <td>5</td>\n",
              "      <td>0</td>\n",
              "      <td>0</td>\n",
              "      <td>0</td>\n",
              "      <td>0</td>\n",
              "      <td>0</td>\n",
              "      <td>0</td>\n",
              "      <td>0</td>\n",
              "      <td>0</td>\n",
              "      <td>0</td>\n",
              "      <td>...</td>\n",
              "      <td>0</td>\n",
              "      <td>0</td>\n",
              "      <td>0</td>\n",
              "      <td>0</td>\n",
              "      <td>0</td>\n",
              "      <td>0</td>\n",
              "      <td>0</td>\n",
              "      <td>0</td>\n",
              "      <td>0</td>\n",
              "      <td>0</td>\n",
              "    </tr>\n",
              "    <tr>\n",
              "      <th>38362</th>\n",
              "      <td>2</td>\n",
              "      <td>0</td>\n",
              "      <td>0</td>\n",
              "      <td>0</td>\n",
              "      <td>0</td>\n",
              "      <td>0</td>\n",
              "      <td>0</td>\n",
              "      <td>0</td>\n",
              "      <td>0</td>\n",
              "      <td>0</td>\n",
              "      <td>...</td>\n",
              "      <td>0</td>\n",
              "      <td>0</td>\n",
              "      <td>0</td>\n",
              "      <td>0</td>\n",
              "      <td>0</td>\n",
              "      <td>0</td>\n",
              "      <td>0</td>\n",
              "      <td>0</td>\n",
              "      <td>0</td>\n",
              "      <td>0</td>\n",
              "    </tr>\n",
              "    <tr>\n",
              "      <th>22439</th>\n",
              "      <td>1</td>\n",
              "      <td>0</td>\n",
              "      <td>0</td>\n",
              "      <td>0</td>\n",
              "      <td>0</td>\n",
              "      <td>0</td>\n",
              "      <td>0</td>\n",
              "      <td>0</td>\n",
              "      <td>0</td>\n",
              "      <td>0</td>\n",
              "      <td>...</td>\n",
              "      <td>0</td>\n",
              "      <td>0</td>\n",
              "      <td>0</td>\n",
              "      <td>0</td>\n",
              "      <td>0</td>\n",
              "      <td>0</td>\n",
              "      <td>0</td>\n",
              "      <td>0</td>\n",
              "      <td>0</td>\n",
              "      <td>0</td>\n",
              "    </tr>\n",
              "    <tr>\n",
              "      <th>...</th>\n",
              "      <td>...</td>\n",
              "      <td>...</td>\n",
              "      <td>...</td>\n",
              "      <td>...</td>\n",
              "      <td>...</td>\n",
              "      <td>...</td>\n",
              "      <td>...</td>\n",
              "      <td>...</td>\n",
              "      <td>...</td>\n",
              "      <td>...</td>\n",
              "      <td>...</td>\n",
              "      <td>...</td>\n",
              "      <td>...</td>\n",
              "      <td>...</td>\n",
              "      <td>...</td>\n",
              "      <td>...</td>\n",
              "      <td>...</td>\n",
              "      <td>...</td>\n",
              "      <td>...</td>\n",
              "      <td>...</td>\n",
              "      <td>...</td>\n",
              "    </tr>\n",
              "    <tr>\n",
              "      <th>17636</th>\n",
              "      <td>3</td>\n",
              "      <td>0</td>\n",
              "      <td>0</td>\n",
              "      <td>0</td>\n",
              "      <td>0</td>\n",
              "      <td>0</td>\n",
              "      <td>0</td>\n",
              "      <td>0</td>\n",
              "      <td>0</td>\n",
              "      <td>0</td>\n",
              "      <td>...</td>\n",
              "      <td>0</td>\n",
              "      <td>0</td>\n",
              "      <td>0</td>\n",
              "      <td>0</td>\n",
              "      <td>0</td>\n",
              "      <td>0</td>\n",
              "      <td>0</td>\n",
              "      <td>0</td>\n",
              "      <td>0</td>\n",
              "      <td>0</td>\n",
              "    </tr>\n",
              "    <tr>\n",
              "      <th>36831</th>\n",
              "      <td>1</td>\n",
              "      <td>0</td>\n",
              "      <td>0</td>\n",
              "      <td>0</td>\n",
              "      <td>0</td>\n",
              "      <td>0</td>\n",
              "      <td>0</td>\n",
              "      <td>0</td>\n",
              "      <td>0</td>\n",
              "      <td>0</td>\n",
              "      <td>...</td>\n",
              "      <td>0</td>\n",
              "      <td>0</td>\n",
              "      <td>0</td>\n",
              "      <td>0</td>\n",
              "      <td>0</td>\n",
              "      <td>0</td>\n",
              "      <td>0</td>\n",
              "      <td>0</td>\n",
              "      <td>0</td>\n",
              "      <td>0</td>\n",
              "    </tr>\n",
              "    <tr>\n",
              "      <th>13324</th>\n",
              "      <td>3</td>\n",
              "      <td>0</td>\n",
              "      <td>0</td>\n",
              "      <td>0</td>\n",
              "      <td>0</td>\n",
              "      <td>0</td>\n",
              "      <td>0</td>\n",
              "      <td>0</td>\n",
              "      <td>0</td>\n",
              "      <td>0</td>\n",
              "      <td>...</td>\n",
              "      <td>0</td>\n",
              "      <td>0</td>\n",
              "      <td>0</td>\n",
              "      <td>0</td>\n",
              "      <td>0</td>\n",
              "      <td>0</td>\n",
              "      <td>0</td>\n",
              "      <td>0</td>\n",
              "      <td>0</td>\n",
              "      <td>0</td>\n",
              "    </tr>\n",
              "    <tr>\n",
              "      <th>30795</th>\n",
              "      <td>2</td>\n",
              "      <td>0</td>\n",
              "      <td>0</td>\n",
              "      <td>0</td>\n",
              "      <td>0</td>\n",
              "      <td>0</td>\n",
              "      <td>0</td>\n",
              "      <td>0</td>\n",
              "      <td>0</td>\n",
              "      <td>0</td>\n",
              "      <td>...</td>\n",
              "      <td>0</td>\n",
              "      <td>0</td>\n",
              "      <td>0</td>\n",
              "      <td>0</td>\n",
              "      <td>0</td>\n",
              "      <td>0</td>\n",
              "      <td>0</td>\n",
              "      <td>0</td>\n",
              "      <td>0</td>\n",
              "      <td>0</td>\n",
              "    </tr>\n",
              "    <tr>\n",
              "      <th>13384</th>\n",
              "      <td>2</td>\n",
              "      <td>0</td>\n",
              "      <td>0</td>\n",
              "      <td>0</td>\n",
              "      <td>0</td>\n",
              "      <td>0</td>\n",
              "      <td>0</td>\n",
              "      <td>0</td>\n",
              "      <td>0</td>\n",
              "      <td>0</td>\n",
              "      <td>...</td>\n",
              "      <td>0</td>\n",
              "      <td>0</td>\n",
              "      <td>0</td>\n",
              "      <td>0</td>\n",
              "      <td>0</td>\n",
              "      <td>0</td>\n",
              "      <td>0</td>\n",
              "      <td>0</td>\n",
              "      <td>0</td>\n",
              "      <td>0</td>\n",
              "    </tr>\n",
              "  </tbody>\n",
              "</table>\n",
              "<p>10000 rows × 785 columns</p>\n",
              "</div>"
            ],
            "text/plain": [
              "       label  pixel0  pixel1  pixel2  pixel3  pixel4  pixel5  pixel6  pixel7  \\\n",
              "10172      1       0       0       0       0       0       0       0       0   \n",
              "37551      7       0       0       0       0       0       0       0       0   \n",
              "13256      5       0       0       0       0       0       0       0       0   \n",
              "38362      2       0       0       0       0       0       0       0       0   \n",
              "22439      1       0       0       0       0       0       0       0       0   \n",
              "...      ...     ...     ...     ...     ...     ...     ...     ...     ...   \n",
              "17636      3       0       0       0       0       0       0       0       0   \n",
              "36831      1       0       0       0       0       0       0       0       0   \n",
              "13324      3       0       0       0       0       0       0       0       0   \n",
              "30795      2       0       0       0       0       0       0       0       0   \n",
              "13384      2       0       0       0       0       0       0       0       0   \n",
              "\n",
              "       pixel8  ...  pixel774  pixel775  pixel776  pixel777  pixel778  \\\n",
              "10172       0  ...         0         0         0         0         0   \n",
              "37551       0  ...         0         0         0         0         0   \n",
              "13256       0  ...         0         0         0         0         0   \n",
              "38362       0  ...         0         0         0         0         0   \n",
              "22439       0  ...         0         0         0         0         0   \n",
              "...       ...  ...       ...       ...       ...       ...       ...   \n",
              "17636       0  ...         0         0         0         0         0   \n",
              "36831       0  ...         0         0         0         0         0   \n",
              "13324       0  ...         0         0         0         0         0   \n",
              "30795       0  ...         0         0         0         0         0   \n",
              "13384       0  ...         0         0         0         0         0   \n",
              "\n",
              "       pixel779  pixel780  pixel781  pixel782  pixel783  \n",
              "10172         0         0         0         0         0  \n",
              "37551         0         0         0         0         0  \n",
              "13256         0         0         0         0         0  \n",
              "38362         0         0         0         0         0  \n",
              "22439         0         0         0         0         0  \n",
              "...         ...       ...       ...       ...       ...  \n",
              "17636         0         0         0         0         0  \n",
              "36831         0         0         0         0         0  \n",
              "13324         0         0         0         0         0  \n",
              "30795         0         0         0         0         0  \n",
              "13384         0         0         0         0         0  \n",
              "\n",
              "[10000 rows x 785 columns]"
            ]
          },
          "execution_count": 4,
          "metadata": {},
          "output_type": "execute_result"
        }
      ],
      "source": [
        "# 1B\n",
        "df_sample = dr_train.sample(n=10000, random_state=1)\n",
        "df_sample.shape\n",
        "df_sample"
      ]
    },
    {
      "cell_type": "markdown",
      "id": "2cf5a873",
      "metadata": {
        "papermill": {
          "duration": 0.011328,
          "end_time": "2023-03-24T21:40:01.640992",
          "exception": false,
          "start_time": "2023-03-24T21:40:01.629664",
          "status": "completed"
        },
        "tags": [],
        "id": "2cf5a873"
      },
      "source": [
        "Create feature and label arrays (X_sample, y_sample) from the sampled data."
      ]
    },
    {
      "cell_type": "code",
      "execution_count": null,
      "id": "93c0c6a3",
      "metadata": {
        "execution": {
          "iopub.execute_input": "2023-03-24T21:40:01.669757Z",
          "iopub.status.busy": "2023-03-24T21:40:01.667913Z",
          "iopub.status.idle": "2023-03-24T21:40:01.684839Z",
          "shell.execute_reply": "2023-03-24T21:40:01.682625Z"
        },
        "papermill": {
          "duration": 0.036786,
          "end_time": "2023-03-24T21:40:01.690335",
          "exception": false,
          "start_time": "2023-03-24T21:40:01.653549",
          "status": "completed"
        },
        "tags": [],
        "id": "93c0c6a3",
        "outputId": "42ed9991-6767-4e61-9f2a-dcfb16268e59"
      },
      "outputs": [
        {
          "name": "stdout",
          "output_type": "stream",
          "text": [
            "(10000, 784) (10000,)\n"
          ]
        }
      ],
      "source": [
        "# 1C\n",
        "X_sample = df_sample.drop(['label'], axis = 1).values\n",
        "y_sample = df_sample.label.values\n",
        "\n",
        "print(X_sample.shape, y_sample.shape)\n"
      ]
    },
    {
      "cell_type": "markdown",
      "id": "4bf17da4",
      "metadata": {
        "papermill": {
          "duration": 0.013664,
          "end_time": "2023-03-24T21:40:01.715631",
          "exception": false,
          "start_time": "2023-03-24T21:40:01.701967",
          "status": "completed"
        },
        "tags": [],
        "id": "4bf17da4"
      },
      "source": [
        "Visualize a sample of the digits to gain a better understanding of the data."
      ]
    },
    {
      "cell_type": "code",
      "execution_count": null,
      "id": "650c513e",
      "metadata": {
        "execution": {
          "iopub.execute_input": "2023-03-24T21:40:01.742561Z",
          "iopub.status.busy": "2023-03-24T21:40:01.742121Z",
          "iopub.status.idle": "2023-03-24T21:40:02.108781Z",
          "shell.execute_reply": "2023-03-24T21:40:02.107403Z"
        },
        "papermill": {
          "duration": 0.383303,
          "end_time": "2023-03-24T21:40:02.111696",
          "exception": false,
          "start_time": "2023-03-24T21:40:01.728393",
          "status": "completed"
        },
        "tags": [],
        "id": "650c513e",
        "outputId": "4984d20a-8fb9-482d-cca4-f369011329c5"
      },
      "outputs": [
        {
          "data": {
            "image/png": "[encoded data removed]",
            "text/plain": [
              "<Figure size 640x480 with 8 Axes>"
            ]
          },
          "metadata": {},
          "output_type": "display_data"
        },
        {
          "name": "stdout",
          "output_type": "stream",
          "text": [
            "[1 7 5 2 1 5 3 1]\n"
          ]
        }
      ],
      "source": [
        "# 1D\n",
        "for i in range(8):\n",
        "    plt.subplot(2,4,i+1)\n",
        "    digit = X_sample[i,:].reshape(28,28)\n",
        "    plt.imshow(digit, cmap='Greys')\n",
        "    plt.axis('off')\n",
        "plt.show()\n",
        "\n",
        "print(y_sample[:8])"
      ]
    },
    {
      "cell_type": "markdown",
      "id": "939a4228",
      "metadata": {
        "papermill": {
          "duration": 0.012115,
          "end_time": "2023-03-24T21:40:02.136605",
          "exception": false,
          "start_time": "2023-03-24T21:40:02.124490",
          "status": "completed"
        },
        "tags": [],
        "id": "939a4228"
      },
      "source": [
        "Scale the pixel values to a range between 0 and 1 to improve the performance of some algorithms."
      ]
    },
    {
      "cell_type": "code",
      "execution_count": null,
      "id": "7fc63687",
      "metadata": {
        "execution": {
          "iopub.execute_input": "2023-03-24T21:40:02.163181Z",
          "iopub.status.busy": "2023-03-24T21:40:02.162204Z",
          "iopub.status.idle": "2023-03-24T21:40:02.195420Z",
          "shell.execute_reply": "2023-03-24T21:40:02.193605Z"
        },
        "papermill": {
          "duration": 0.049962,
          "end_time": "2023-03-24T21:40:02.198732",
          "exception": false,
          "start_time": "2023-03-24T21:40:02.148770",
          "status": "completed"
        },
        "tags": [],
        "id": "7fc63687"
      },
      "outputs": [],
      "source": [
        "# 1E\n",
        "X_scaled = X_sample/255\n"
      ]
    },
    {
      "cell_type": "markdown",
      "id": "9838247f",
      "metadata": {
        "papermill": {
          "duration": 0.012261,
          "end_time": "2023-03-24T21:40:02.222360",
          "exception": false,
          "start_time": "2023-03-24T21:40:02.210099",
          "status": "completed"
        },
        "tags": [],
        "id": "9838247f"
      },
      "source": [
        "# Model Selection\n",
        "\n",
        "In this section, various machine learning models are evaluated and compared to select the best-performing model for MNIST digit classification. The models considered include Logistic Regression, K-Nearest Neighbors, Decision Tree, and Random Forest.\n",
        "\n",
        "5-fold cross-validation is used throughout this section for model evaluation."
      ]
    },
    {
      "cell_type": "markdown",
      "id": "c1364ef9",
      "metadata": {
        "papermill": {
          "duration": 0.01393,
          "end_time": "2023-03-24T21:40:02.248766",
          "exception": false,
          "start_time": "2023-03-24T21:40:02.234836",
          "status": "completed"
        },
        "tags": [],
        "id": "c1364ef9"
      },
      "source": [
        "### Logistic Regression\n",
        "\n",
        "Evaluate the performance of a Logistic Regression model using 5-fold cross-validation."
      ]
    },
    {
      "cell_type": "code",
      "execution_count": null,
      "id": "256b7a95",
      "metadata": {
        "execution": {
          "iopub.execute_input": "2023-03-24T21:40:02.277112Z",
          "iopub.status.busy": "2023-03-24T21:40:02.276626Z",
          "iopub.status.idle": "2023-03-24T21:40:51.289124Z",
          "shell.execute_reply": "2023-03-24T21:40:51.287168Z"
        },
        "papermill": {
          "duration": 49.04142,
          "end_time": "2023-03-24T21:40:51.303699",
          "exception": false,
          "start_time": "2023-03-24T21:40:02.262279",
          "status": "completed"
        },
        "tags": [],
        "id": "256b7a95",
        "outputId": "e2b09059-ba2c-40de-fc2c-6030585a47fc"
      },
      "outputs": [
        {
          "name": "stdout",
          "output_type": "stream",
          "text": [
            "CV_score: [0.9005 0.9045 0.913  0.906  0.9065] 0.9061\n",
            "CPU times: total: 15.6 ms\n",
            "Wall time: 13.3 s\n"
          ]
        }
      ],
      "source": [
        "%%time\n",
        "# 2A\n",
        "\n",
        "lr_model = LogisticRegression(penalty=None, solver='saga', tol=0.01, max_iter=1000)\n",
        "cv = cross_val_score(lr_model, X_scaled, y_sample, cv=5, scoring = 'accuracy', n_jobs=-1)\n",
        "\n",
        "print('CV_score:', cv.round(4), cv.mean().round(4) )\n",
        "\n"
      ]
    },
    {
      "cell_type": "markdown",
      "id": "517571bf",
      "metadata": {
        "papermill": {
          "duration": 0.012368,
          "end_time": "2023-03-24T21:40:51.330163",
          "exception": false,
          "start_time": "2023-03-24T21:40:51.317795",
          "status": "completed"
        },
        "tags": [],
        "id": "517571bf"
      },
      "source": [
        "### K-Nearest Neighbors\n",
        "\n",
        "Perform hyperparameter tuning for a K-Nearest Neighbors model using GridSearchCV.\n"
      ]
    },
    {
      "cell_type": "code",
      "execution_count": null,
      "id": "aec7e4b0",
      "metadata": {
        "execution": {
          "iopub.execute_input": "2023-03-24T21:40:51.358386Z",
          "iopub.status.busy": "2023-03-24T21:40:51.357882Z",
          "iopub.status.idle": "2023-03-24T21:41:21.657207Z",
          "shell.execute_reply": "2023-03-24T21:41:21.655567Z"
        },
        "papermill": {
          "duration": 30.33083,
          "end_time": "2023-03-24T21:41:21.674422",
          "exception": false,
          "start_time": "2023-03-24T21:40:51.343592",
          "status": "completed"
        },
        "tags": [],
        "id": "aec7e4b0",
        "outputId": "82e8a847-73ec-4a2d-b48f-16944c9b55e9"
      },
      "outputs": [
        {
          "name": "stderr",
          "output_type": "stream",
          "text": [
            "C:\\Users\\sahdu\\anaconda3\\Lib\\site-packages\\joblib\\externals\\loky\\backend\\context.py:110: UserWarning: Could not find the number of physical cores for the following reason:\n",
            "[WinError 2] The system cannot find the file specified\n",
            "Returning the number of logical cores instead. You can silence this warning by setting LOKY_MAX_CPU_COUNT to the number of cores you want to use.\n",
            "  warnings.warn(\n",
            "  File \"C:\\Users\\sahdu\\anaconda3\\Lib\\site-packages\\joblib\\externals\\loky\\backend\\context.py\", line 199, in _count_physical_cores\n",
            "    cpu_info = subprocess.run(\n",
            "               ^^^^^^^^^^^^^^^\n",
            "  File \"C:\\Users\\sahdu\\anaconda3\\Lib\\subprocess.py\", line 548, in run\n",
            "    with Popen(*popenargs, **kwargs) as process:\n",
            "         ^^^^^^^^^^^^^^^^^^^^^^^^^^^\n",
            "  File \"C:\\Users\\sahdu\\anaconda3\\Lib\\subprocess.py\", line 1026, in __init__\n",
            "    self._execute_child(args, executable, preexec_fn, close_fds,\n",
            "  File \"C:\\Users\\sahdu\\anaconda3\\Lib\\subprocess.py\", line 1538, in _execute_child\n",
            "    hp, ht, pid, tid = _winapi.CreateProcess(executable, args,\n",
            "                       ^^^^^^^^^^^^^^^^^^^^^^^^^^^^^^^^^^^^^^^\n"
          ]
        },
        {
          "name": "stdout",
          "output_type": "stream",
          "text": [
            "Best Parameters: {'n_neighbors': 4}\n",
            "Best CV Score: 0.9445\n",
            "Training Acc: 0.9689\n",
            "CPU times: total: 2min 8s\n",
            "Wall time: 7.78 s\n"
          ]
        }
      ],
      "source": [
        "%%time\n",
        "# 2B\n",
        "# Hyperparameter tuning for KNN\n",
        "KNN = KNeighborsClassifier()\n",
        "neighbors_dict = {'n_neighbors':[2,4,6,8,10,12,14,16]}\n",
        "\n",
        "knn_grid = GridSearchCV(KNN, neighbors_dict, cv=5, refit='True')\n",
        "knn_grid.fit(X_scaled, y_sample)\n",
        "knn_mod = knn_grid.best_estimator_\n",
        "\n",
        "print('Best Parameters:',knn_grid.best_params_)\n",
        "print('Best CV Score:', knn_grid.best_score_)\n",
        "print('Training Acc:', knn_grid.score(X_scaled, y_sample))\n",
        "\n"
      ]
    },
    {
      "cell_type": "markdown",
      "id": "ef88cf6c",
      "metadata": {
        "papermill": {
          "duration": 0.014435,
          "end_time": "2023-03-24T21:41:21.707583",
          "exception": false,
          "start_time": "2023-03-24T21:41:21.693148",
          "status": "completed"
        },
        "tags": [],
        "id": "ef88cf6c"
      },
      "source": [
        "Visualize the results of the KNN hyperparameter tuning.\n",
        "\n",
        "Visualize KNN grid search results"
      ]
    },
    {
      "cell_type": "code",
      "execution_count": null,
      "id": "4ab29ec0",
      "metadata": {
        "execution": {
          "iopub.execute_input": "2023-03-24T21:41:21.736706Z",
          "iopub.status.busy": "2023-03-24T21:41:21.735864Z",
          "iopub.status.idle": "2023-03-24T21:41:22.008956Z",
          "shell.execute_reply": "2023-03-24T21:41:22.006949Z"
        },
        "papermill": {
          "duration": 0.292318,
          "end_time": "2023-03-24T21:41:22.012408",
          "exception": false,
          "start_time": "2023-03-24T21:41:21.720090",
          "status": "completed"
        },
        "tags": [],
        "id": "4ab29ec0",
        "outputId": "ffb94cb0-2123-409b-c913-c887f7b9de41"
      },
      "outputs": [
        {
          "data": {
            "image/png": "[encoded data removed]",
            "text/plain": [
              "<Figure size 640x480 with 1 Axes>"
            ]
          },
          "metadata": {},
          "output_type": "display_data"
        }
      ],
      "source": [
        "knn_summary = pd.DataFrame(knn_grid.cv_results_['params'])\n",
        "knn_summary['cv_score'] = knn_grid.cv_results_['mean_test_score']\n",
        "\n",
        "plt.plot(knn_summary.n_neighbors, knn_summary.cv_score)\n",
        "plt.xlabel('n_neighbors')\n",
        "plt.ylabel('CV Score')\n",
        "plt.xticks(knn_summary.n_neighbors)\n",
        "plt.grid()\n",
        "plt.show()"
      ]
    },
    {
      "cell_type": "markdown",
      "id": "1535bc20",
      "metadata": {
        "papermill": {
          "duration": 0.013794,
          "end_time": "2023-03-24T21:41:22.039602",
          "exception": false,
          "start_time": "2023-03-24T21:41:22.025808",
          "status": "completed"
        },
        "tags": [],
        "id": "1535bc20"
      },
      "source": [
        "### Decision Trees\n",
        "\n",
        "Perform hyperparameter tuning for a Decision Tree model using GridSearchCV."
      ]
    },
    {
      "cell_type": "code",
      "execution_count": null,
      "id": "d514b172",
      "metadata": {
        "execution": {
          "iopub.execute_input": "2023-03-24T21:41:22.067864Z",
          "iopub.status.busy": "2023-03-24T21:41:22.067389Z",
          "iopub.status.idle": "2023-03-24T21:42:36.024479Z",
          "shell.execute_reply": "2023-03-24T21:42:36.022459Z"
        },
        "papermill": {
          "duration": 73.985205,
          "end_time": "2023-03-24T21:42:36.038086",
          "exception": false,
          "start_time": "2023-03-24T21:41:22.052881",
          "status": "completed"
        },
        "tags": [],
        "id": "d514b172",
        "outputId": "1c9e2c9f-f6ce-4a3a-9d85-b23a6f03f25a"
      },
      "outputs": [
        {
          "name": "stdout",
          "output_type": "stream",
          "text": [
            "Best Parameters: {'max_depth': 16, 'min_samples_leaf': 4}\n",
            "Best CV Score: 0.8043\n",
            "Training Acc: 0.9301\n",
            "CPU times: total: 1.81 s\n",
            "Wall time: 35.3 s\n"
          ]
        }
      ],
      "source": [
        "%%time\n",
        "# Hyperparameter tuning for KNN\n",
        "dt_clf = DecisionTreeClassifier(random_state=1)\n",
        "dt_parameters = {'max_depth':[8,10,12,14,16,18,20,22,24,26],\n",
        "           'min_samples_leaf':[2,4,6,8,10]}\n",
        "\n",
        "dt_grid = GridSearchCV(dt_clf, dt_parameters, cv=5, refit='True', n_jobs=-1)\n",
        "dt_grid.fit(X_scaled, y_sample)\n",
        "dt_mod = dt_grid.best_estimator_\n",
        "\n",
        "print('Best Parameters:', dt_grid.best_params_)\n",
        "print('Best CV Score:', round(dt_grid.best_score_,4))\n",
        "print('Training Acc:', dt_grid.score(X_scaled, y_sample))\n"
      ]
    },
    {
      "cell_type": "markdown",
      "id": "4a482ffc",
      "metadata": {
        "papermill": {
          "duration": 0.013008,
          "end_time": "2023-03-24T21:42:36.063262",
          "exception": false,
          "start_time": "2023-03-24T21:42:36.050254",
          "status": "completed"
        },
        "tags": [],
        "id": "4a482ffc"
      },
      "source": [
        "Visualize the results of the Decision Tree hyperparameter tuning.\n",
        "\n",
        "Visualize Decision Tree grid search results"
      ]
    },
    {
      "cell_type": "code",
      "execution_count": null,
      "id": "7ba5418c",
      "metadata": {
        "execution": {
          "iopub.execute_input": "2023-03-24T21:42:36.090625Z",
          "iopub.status.busy": "2023-03-24T21:42:36.090187Z",
          "iopub.status.idle": "2023-03-24T21:42:36.405324Z",
          "shell.execute_reply": "2023-03-24T21:42:36.403997Z"
        },
        "papermill": {
          "duration": 0.332945,
          "end_time": "2023-03-24T21:42:36.408638",
          "exception": false,
          "start_time": "2023-03-24T21:42:36.075693",
          "status": "completed"
        },
        "tags": [],
        "id": "7ba5418c",
        "outputId": "c8c3832b-fa7f-4d77-ff48-f26a6c774455"
      },
      "outputs": [
        {
          "data": {
            "image/png": "[encoded data removed]",
            "text/plain": [
              "<Figure size 640x480 with 1 Axes>"
            ]
          },
          "metadata": {},
          "output_type": "display_data"
        }
      ],
      "source": [
        "dt_summary = pd.DataFrame(dt_grid.cv_results_['params'])\n",
        "dt_summary['cv_score'] = dt_grid.cv_results_['mean_test_score']\n",
        "\n",
        "for ms in dt_parameters['min_samples_leaf']:\n",
        "    temp = dt_summary.query(f'min_samples_leaf == {ms}')\n",
        "    plt.plot(temp.max_depth, temp.cv_score, label=ms)\n",
        "plt.xlabel('Maximum Depth')\n",
        "plt.ylabel('CV Score')\n",
        "plt.legend(title='Min Samples', bbox_to_anchor=[1,1])\n",
        "plt.xticks(dt_parameters['max_depth'])\n",
        "plt.grid()\n",
        "plt.show()"
      ]
    },
    {
      "cell_type": "markdown",
      "id": "1ec08790",
      "metadata": {
        "papermill": {
          "duration": 0.012634,
          "end_time": "2023-03-24T21:42:36.435103",
          "exception": false,
          "start_time": "2023-03-24T21:42:36.422469",
          "status": "completed"
        },
        "tags": [],
        "id": "1ec08790"
      },
      "source": [
        "### Random Forests\n",
        "\n",
        "Perform hyperparameter tuning for a Random Forest model using GridSearchCV."
      ]
    },
    {
      "cell_type": "code",
      "execution_count": null,
      "id": "e1a399b9",
      "metadata": {
        "execution": {
          "iopub.execute_input": "2023-03-24T21:42:36.466530Z",
          "iopub.status.busy": "2023-03-24T21:42:36.465575Z",
          "iopub.status.idle": "2023-03-24T21:45:34.447548Z",
          "shell.execute_reply": "2023-03-24T21:45:34.445912Z"
        },
        "papermill": {
          "duration": 178.001453,
          "end_time": "2023-03-24T21:45:34.450950",
          "exception": false,
          "start_time": "2023-03-24T21:42:36.449497",
          "status": "completed"
        },
        "tags": [],
        "id": "e1a399b9",
        "outputId": "2e85d7dc-1ef5-44c1-daa5-9f57d012d474"
      },
      "outputs": [
        {
          "name": "stdout",
          "output_type": "stream",
          "text": [
            "Best Parameters: {'max_depth': 20, 'min_samples_leaf': 2}\n",
            "Best CV Score: 0.9462\n",
            "Training Acc: 0.999\n",
            "CPU times: total: 5.5 s\n",
            "Wall time: 1min 56s\n"
          ]
        }
      ],
      "source": [
        "%%time\n",
        "#Hyperparameter tuning for Random Forest\n",
        "rf_clf = RandomForestClassifier(random_state=1)\n",
        "rf_parameters = {'max_depth':[4,6,8,10,12,14,16,18,20,22,24,26],\n",
        "           'min_samples_leaf':[2,4,6,8,10]}\n",
        "\n",
        "rf_grid = GridSearchCV(rf_clf, rf_parameters, cv=5, refit='True', n_jobs=-1)\n",
        "rf_grid.fit(X_scaled, y_sample)\n",
        "rf_mod = rf_grid.best_estimator_\n",
        "\n",
        "print('Best Parameters:', rf_grid.best_params_)\n",
        "print('Best CV Score:', round(rf_grid.best_score_,4))\n",
        "print('Training Acc:', rf_grid.score(X_scaled, y_sample))\n",
        "\n"
      ]
    },
    {
      "cell_type": "markdown",
      "source": [
        "Visualize the results of the Random Forest hyperparameter tuning.\n",
        "\n",
        "Visualize Random Forest grid search results"
      ],
      "metadata": {
        "id": "iLVhNwKf5tNj"
      },
      "id": "iLVhNwKf5tNj"
    },
    {
      "cell_type": "code",
      "execution_count": null,
      "id": "f916a3f8",
      "metadata": {
        "execution": {
          "iopub.execute_input": "2023-03-24T21:45:34.480161Z",
          "iopub.status.busy": "2023-03-24T21:45:34.479126Z",
          "iopub.status.idle": "2023-03-24T21:45:34.752777Z",
          "shell.execute_reply": "2023-03-24T21:45:34.751718Z"
        },
        "papermill": {
          "duration": 0.291231,
          "end_time": "2023-03-24T21:45:34.755316",
          "exception": false,
          "start_time": "2023-03-24T21:45:34.464085",
          "status": "completed"
        },
        "tags": [],
        "id": "f916a3f8",
        "outputId": "c2eb1e93-f6b1-4bb6-f347-fb559c5afb77"
      },
      "outputs": [
        {
          "data": {
            "image/png": "[encoded data removed]",
            "text/plain": [
              "<Figure size 640x480 with 1 Axes>"
            ]
          },
          "metadata": {},
          "output_type": "display_data"
        }
      ],
      "source": [
        "rf_summary = pd.DataFrame(rf_grid.cv_results_['params'])\n",
        "rf_summary['cv_score'] = rf_grid.cv_results_['mean_test_score']\n",
        "\n",
        "for ms in rf_parameters['min_samples_leaf']:\n",
        "    temp = rf_summary.query(f'min_samples_leaf == {ms}')\n",
        "    plt.plot(temp.max_depth, temp.cv_score, label=ms)\n",
        "plt.xlabel('Maximum Depth')\n",
        "plt.ylabel('CV Score')\n",
        "plt.legend(title='Min Samples', bbox_to_anchor=[1,1])\n",
        "plt.xticks(rf_parameters['max_depth'])\n",
        "plt.grid()\n",
        "plt.show()"
      ]
    },
    {
      "cell_type": "markdown",
      "id": "634b6c4e",
      "metadata": {
        "papermill": {
          "duration": 0.013699,
          "end_time": "2023-03-24T21:45:34.783268",
          "exception": false,
          "start_time": "2023-03-24T21:45:34.769569",
          "status": "completed"
        },
        "tags": [],
        "id": "634b6c4e"
      },
      "source": [
        "## Final Model\n",
        "\n",
        "Based on the cross-validation scores from the previous section, the Random Forest model exhibited the highest performance. This section focuses on training and evaluating the final Random Forest model using the entire dataset for improved accuracy.\n",
        "\n",
        "Prepare the full dataset for model training by creating feature and label arrays and scaling the pixel values."
      ]
    },
    {
      "cell_type": "code",
      "execution_count": null,
      "id": "27b47875",
      "metadata": {
        "execution": {
          "iopub.execute_input": "2023-03-24T21:45:34.813187Z",
          "iopub.status.busy": "2023-03-24T21:45:34.812520Z",
          "iopub.status.idle": "2023-03-24T21:45:34.923830Z",
          "shell.execute_reply": "2023-03-24T21:45:34.922214Z"
        },
        "papermill": {
          "duration": 0.129621,
          "end_time": "2023-03-24T21:45:34.926855",
          "exception": false,
          "start_time": "2023-03-24T21:45:34.797234",
          "status": "completed"
        },
        "tags": [],
        "id": "27b47875",
        "outputId": "1d7f9dc8-44d1-490e-8d90-a1dc834f8c49"
      },
      "outputs": [
        {
          "name": "stdout",
          "output_type": "stream",
          "text": [
            "(42000, 784) (42000,)\n"
          ]
        }
      ],
      "source": [
        "# 3A\n",
        "\n",
        "X_train = dr_train.drop(['label'], axis = 1).values\n",
        "X_train_scaled = X_train/255\n",
        "y_train = dr_train.label.values\n",
        "\n",
        "print(X_train.shape, y_train.shape)"
      ]
    },
    {
      "cell_type": "markdown",
      "id": "fb62e77c",
      "metadata": {
        "papermill": {
          "duration": 0.014265,
          "end_time": "2023-03-24T21:45:34.955292",
          "exception": false,
          "start_time": "2023-03-24T21:45:34.941027",
          "status": "completed"
        },
        "tags": [],
        "id": "fb62e77c"
      },
      "source": [
        "Train the final Random Forest model using the best hyperparameter values identified during tuning. Evaluate the model's performance using 10-fold cross-validation."
      ]
    },
    {
      "cell_type": "code",
      "execution_count": null,
      "id": "58e5bd27",
      "metadata": {
        "execution": {
          "iopub.execute_input": "2023-03-24T21:45:34.984735Z",
          "iopub.status.busy": "2023-03-24T21:45:34.984257Z",
          "iopub.status.idle": "2023-03-24T21:47:56.053294Z",
          "shell.execute_reply": "2023-03-24T21:47:56.051707Z"
        },
        "papermill": {
          "duration": 141.10179,
          "end_time": "2023-03-24T21:47:56.070762",
          "exception": false,
          "start_time": "2023-03-24T21:45:34.968972",
          "status": "completed"
        },
        "tags": [],
        "id": "58e5bd27",
        "outputId": "a1c3a607-6b11-4a4a-c793-fe8eb6c3200e"
      },
      "outputs": [
        {
          "name": "stdout",
          "output_type": "stream",
          "text": [
            "CV Score: 0.9627\n",
            "CPU times: total: 14.2 s\n",
            "Wall time: 59.8 s\n"
          ]
        }
      ],
      "source": [
        "%%time\n",
        "# 3B\n",
        "rf_clf = RandomForestClassifier(max_depth= 20, min_samples_leaf= 2, random_state=1)\n",
        "rf_clf.fit(X_train_scaled, y_train)\n",
        "cv = cross_val_score(rf_clf, X_train_scaled, y_train, cv=10, scoring = 'accuracy', n_jobs = -1)\n",
        "print('CV Score:', cv.mean().round(4))\n"
      ]
    },
    {
      "cell_type": "markdown",
      "id": "6ce6b836",
      "metadata": {
        "papermill": {
          "duration": 0.01444,
          "end_time": "2023-03-24T21:47:56.100141",
          "exception": false,
          "start_time": "2023-03-24T21:47:56.085701",
          "status": "completed"
        },
        "tags": [],
        "id": "6ce6b836"
      },
      "source": [
        "Generate out-of-sample predictions using 10-fold cross-validation, display a confusion matrix, and create a classification report to assess the model's performance on unseen data."
      ]
    },
    {
      "cell_type": "code",
      "execution_count": null,
      "id": "7ee68ce1",
      "metadata": {
        "execution": {
          "iopub.execute_input": "2023-03-24T21:47:56.134397Z",
          "iopub.status.busy": "2023-03-24T21:47:56.133910Z",
          "iopub.status.idle": "2023-03-24T21:49:46.039826Z",
          "shell.execute_reply": "2023-03-24T21:49:46.038368Z"
        },
        "papermill": {
          "duration": 109.944524,
          "end_time": "2023-03-24T21:49:46.059151",
          "exception": false,
          "start_time": "2023-03-24T21:47:56.114627",
          "status": "completed"
        },
        "tags": [],
        "id": "7ee68ce1",
        "outputId": "53c3bf1a-f429-4b6f-ea2d-c378f96bdfcb"
      },
      "outputs": [
        {
          "name": "stdout",
          "output_type": "stream",
          "text": [
            "CPU times: total: 62.5 ms\n",
            "Wall time: 34.4 s\n"
          ]
        },
        {
          "data": {
            "text/html": [
              "<div>\n",
              "<style scoped>\n",
              "    .dataframe tbody tr th:only-of-type {\n",
              "        vertical-align: middle;\n",
              "    }\n",
              "\n",
              "    .dataframe tbody tr th {\n",
              "        vertical-align: top;\n",
              "    }\n",
              "\n",
              "    .dataframe thead th {\n",
              "        text-align: right;\n",
              "    }\n",
              "</style>\n",
              "<table border=\"1\" class=\"dataframe\">\n",
              "  <thead>\n",
              "    <tr style=\"text-align: right;\">\n",
              "      <th></th>\n",
              "      <th>0</th>\n",
              "      <th>1</th>\n",
              "      <th>2</th>\n",
              "      <th>3</th>\n",
              "      <th>4</th>\n",
              "      <th>5</th>\n",
              "      <th>6</th>\n",
              "      <th>7</th>\n",
              "      <th>8</th>\n",
              "      <th>9</th>\n",
              "    </tr>\n",
              "  </thead>\n",
              "  <tbody>\n",
              "    <tr>\n",
              "      <th>0</th>\n",
              "      <td>4070</td>\n",
              "      <td>0</td>\n",
              "      <td>3</td>\n",
              "      <td>1</td>\n",
              "      <td>5</td>\n",
              "      <td>6</td>\n",
              "      <td>19</td>\n",
              "      <td>1</td>\n",
              "      <td>25</td>\n",
              "      <td>2</td>\n",
              "    </tr>\n",
              "    <tr>\n",
              "      <th>1</th>\n",
              "      <td>0</td>\n",
              "      <td>4610</td>\n",
              "      <td>21</td>\n",
              "      <td>17</td>\n",
              "      <td>8</td>\n",
              "      <td>5</td>\n",
              "      <td>5</td>\n",
              "      <td>9</td>\n",
              "      <td>7</td>\n",
              "      <td>2</td>\n",
              "    </tr>\n",
              "    <tr>\n",
              "      <th>2</th>\n",
              "      <td>18</td>\n",
              "      <td>9</td>\n",
              "      <td>4015</td>\n",
              "      <td>22</td>\n",
              "      <td>20</td>\n",
              "      <td>2</td>\n",
              "      <td>17</td>\n",
              "      <td>38</td>\n",
              "      <td>30</td>\n",
              "      <td>6</td>\n",
              "    </tr>\n",
              "    <tr>\n",
              "      <th>3</th>\n",
              "      <td>5</td>\n",
              "      <td>4</td>\n",
              "      <td>62</td>\n",
              "      <td>4114</td>\n",
              "      <td>2</td>\n",
              "      <td>51</td>\n",
              "      <td>7</td>\n",
              "      <td>33</td>\n",
              "      <td>50</td>\n",
              "      <td>23</td>\n",
              "    </tr>\n",
              "    <tr>\n",
              "      <th>4</th>\n",
              "      <td>5</td>\n",
              "      <td>6</td>\n",
              "      <td>6</td>\n",
              "      <td>0</td>\n",
              "      <td>3937</td>\n",
              "      <td>1</td>\n",
              "      <td>25</td>\n",
              "      <td>7</td>\n",
              "      <td>11</td>\n",
              "      <td>74</td>\n",
              "    </tr>\n",
              "    <tr>\n",
              "      <th>5</th>\n",
              "      <td>16</td>\n",
              "      <td>10</td>\n",
              "      <td>3</td>\n",
              "      <td>54</td>\n",
              "      <td>5</td>\n",
              "      <td>3621</td>\n",
              "      <td>33</td>\n",
              "      <td>4</td>\n",
              "      <td>26</td>\n",
              "      <td>23</td>\n",
              "    </tr>\n",
              "    <tr>\n",
              "      <th>6</th>\n",
              "      <td>18</td>\n",
              "      <td>5</td>\n",
              "      <td>3</td>\n",
              "      <td>0</td>\n",
              "      <td>9</td>\n",
              "      <td>25</td>\n",
              "      <td>4059</td>\n",
              "      <td>0</td>\n",
              "      <td>17</td>\n",
              "      <td>1</td>\n",
              "    </tr>\n",
              "    <tr>\n",
              "      <th>7</th>\n",
              "      <td>5</td>\n",
              "      <td>18</td>\n",
              "      <td>51</td>\n",
              "      <td>5</td>\n",
              "      <td>24</td>\n",
              "      <td>2</td>\n",
              "      <td>0</td>\n",
              "      <td>4224</td>\n",
              "      <td>11</td>\n",
              "      <td>61</td>\n",
              "    </tr>\n",
              "    <tr>\n",
              "      <th>8</th>\n",
              "      <td>7</td>\n",
              "      <td>24</td>\n",
              "      <td>19</td>\n",
              "      <td>45</td>\n",
              "      <td>19</td>\n",
              "      <td>32</td>\n",
              "      <td>13</td>\n",
              "      <td>4</td>\n",
              "      <td>3846</td>\n",
              "      <td>54</td>\n",
              "    </tr>\n",
              "    <tr>\n",
              "      <th>9</th>\n",
              "      <td>22</td>\n",
              "      <td>12</td>\n",
              "      <td>11</td>\n",
              "      <td>60</td>\n",
              "      <td>63</td>\n",
              "      <td>14</td>\n",
              "      <td>3</td>\n",
              "      <td>39</td>\n",
              "      <td>26</td>\n",
              "      <td>3938</td>\n",
              "    </tr>\n",
              "  </tbody>\n",
              "</table>\n",
              "</div>"
            ],
            "text/plain": [
              "      0     1     2     3     4     5     6     7     8     9\n",
              "0  4070     0     3     1     5     6    19     1    25     2\n",
              "1     0  4610    21    17     8     5     5     9     7     2\n",
              "2    18     9  4015    22    20     2    17    38    30     6\n",
              "3     5     4    62  4114     2    51     7    33    50    23\n",
              "4     5     6     6     0  3937     1    25     7    11    74\n",
              "5    16    10     3    54     5  3621    33     4    26    23\n",
              "6    18     5     3     0     9    25  4059     0    17     1\n",
              "7     5    18    51     5    24     2     0  4224    11    61\n",
              "8     7    24    19    45    19    32    13     4  3846    54\n",
              "9    22    12    11    60    63    14     3    39    26  3938"
            ]
          },
          "execution_count": 17,
          "metadata": {},
          "output_type": "execute_result"
        }
      ],
      "source": [
        "%%time\n",
        "# 3C\n",
        "predictions = cross_val_predict(rf_clf, X_train_scaled, y_train, cv=10, n_jobs = -1)\n",
        "cm = confusion_matrix(y_train, predictions)\n",
        "pd.DataFrame(cm)\n",
        "\n"
      ]
    },
    {
      "cell_type": "markdown",
      "id": "43c9842a",
      "metadata": {
        "papermill": {
          "duration": 0.014169,
          "end_time": "2023-03-24T21:49:46.087771",
          "exception": false,
          "start_time": "2023-03-24T21:49:46.073602",
          "status": "completed"
        },
        "tags": [],
        "id": "43c9842a"
      },
      "source": [
        "**Analysis of Misclassifications**\n",
        "\n",
        "The most common misclassification mode by the model was to classify the digit 4 as the digit 9. The second most common misclassification mode was to classify the digit 9 as the digit 4."
      ]
    },
    {
      "cell_type": "markdown",
      "id": "06c149a4",
      "metadata": {
        "papermill": {
          "duration": 0.013779,
          "end_time": "2023-03-24T21:49:46.115599",
          "exception": false,
          "start_time": "2023-03-24T21:49:46.101820",
          "status": "completed"
        },
        "tags": [],
        "id": "06c149a4"
      },
      "source": [
        "Generate a detailed classification report to evaluate the model's performance for each digit class."
      ]
    },
    {
      "cell_type": "code",
      "execution_count": null,
      "id": "7b44c370",
      "metadata": {
        "execution": {
          "iopub.execute_input": "2023-03-24T21:49:46.146321Z",
          "iopub.status.busy": "2023-03-24T21:49:46.145107Z",
          "iopub.status.idle": "2023-03-24T21:49:46.248104Z",
          "shell.execute_reply": "2023-03-24T21:49:46.246638Z"
        },
        "papermill": {
          "duration": 0.122696,
          "end_time": "2023-03-24T21:49:46.252229",
          "exception": false,
          "start_time": "2023-03-24T21:49:46.129533",
          "status": "completed"
        },
        "tags": [],
        "id": "7b44c370",
        "outputId": "473a2e89-1d89-4769-d328-28d985bb22c2"
      },
      "outputs": [
        {
          "data": {
            "text/html": [
              "<div>\n",
              "<style scoped>\n",
              "    .dataframe tbody tr th:only-of-type {\n",
              "        vertical-align: middle;\n",
              "    }\n",
              "\n",
              "    .dataframe tbody tr th {\n",
              "        vertical-align: top;\n",
              "    }\n",
              "\n",
              "    .dataframe thead th {\n",
              "        text-align: right;\n",
              "    }\n",
              "</style>\n",
              "<table border=\"1\" class=\"dataframe\">\n",
              "  <thead>\n",
              "    <tr style=\"text-align: right;\">\n",
              "      <th></th>\n",
              "      <th>precision</th>\n",
              "      <th>recall</th>\n",
              "      <th>f1-score</th>\n",
              "      <th>support</th>\n",
              "    </tr>\n",
              "  </thead>\n",
              "  <tbody>\n",
              "    <tr>\n",
              "      <th>0</th>\n",
              "      <td>0.976956</td>\n",
              "      <td>0.984995</td>\n",
              "      <td>0.980959</td>\n",
              "      <td>4132.000000</td>\n",
              "    </tr>\n",
              "    <tr>\n",
              "      <th>1</th>\n",
              "      <td>0.981269</td>\n",
              "      <td>0.984202</td>\n",
              "      <td>0.982733</td>\n",
              "      <td>4684.000000</td>\n",
              "    </tr>\n",
              "    <tr>\n",
              "      <th>2</th>\n",
              "      <td>0.957320</td>\n",
              "      <td>0.961216</td>\n",
              "      <td>0.959264</td>\n",
              "      <td>4177.000000</td>\n",
              "    </tr>\n",
              "    <tr>\n",
              "      <th>3</th>\n",
              "      <td>0.952756</td>\n",
              "      <td>0.945530</td>\n",
              "      <td>0.949129</td>\n",
              "      <td>4351.000000</td>\n",
              "    </tr>\n",
              "    <tr>\n",
              "      <th>4</th>\n",
              "      <td>0.962121</td>\n",
              "      <td>0.966847</td>\n",
              "      <td>0.964478</td>\n",
              "      <td>4072.000000</td>\n",
              "    </tr>\n",
              "    <tr>\n",
              "      <th>5</th>\n",
              "      <td>0.963288</td>\n",
              "      <td>0.954150</td>\n",
              "      <td>0.958697</td>\n",
              "      <td>3795.000000</td>\n",
              "    </tr>\n",
              "    <tr>\n",
              "      <th>6</th>\n",
              "      <td>0.970820</td>\n",
              "      <td>0.981146</td>\n",
              "      <td>0.975956</td>\n",
              "      <td>4137.000000</td>\n",
              "    </tr>\n",
              "    <tr>\n",
              "      <th>7</th>\n",
              "      <td>0.969030</td>\n",
              "      <td>0.959782</td>\n",
              "      <td>0.964384</td>\n",
              "      <td>4401.000000</td>\n",
              "    </tr>\n",
              "    <tr>\n",
              "      <th>8</th>\n",
              "      <td>0.949864</td>\n",
              "      <td>0.946591</td>\n",
              "      <td>0.948225</td>\n",
              "      <td>4063.000000</td>\n",
              "    </tr>\n",
              "    <tr>\n",
              "      <th>9</th>\n",
              "      <td>0.941205</td>\n",
              "      <td>0.940306</td>\n",
              "      <td>0.940755</td>\n",
              "      <td>4188.000000</td>\n",
              "    </tr>\n",
              "    <tr>\n",
              "      <th>accuracy</th>\n",
              "      <td>0.962714</td>\n",
              "      <td>0.962714</td>\n",
              "      <td>0.962714</td>\n",
              "      <td>0.962714</td>\n",
              "    </tr>\n",
              "    <tr>\n",
              "      <th>macro avg</th>\n",
              "      <td>0.962463</td>\n",
              "      <td>0.962476</td>\n",
              "      <td>0.962458</td>\n",
              "      <td>42000.000000</td>\n",
              "    </tr>\n",
              "    <tr>\n",
              "      <th>weighted avg</th>\n",
              "      <td>0.962683</td>\n",
              "      <td>0.962714</td>\n",
              "      <td>0.962687</td>\n",
              "      <td>42000.000000</td>\n",
              "    </tr>\n",
              "  </tbody>\n",
              "</table>\n",
              "</div>"
            ],
            "text/plain": [
              "              precision    recall  f1-score       support\n",
              "0              0.976956  0.984995  0.980959   4132.000000\n",
              "1              0.981269  0.984202  0.982733   4684.000000\n",
              "2              0.957320  0.961216  0.959264   4177.000000\n",
              "3              0.952756  0.945530  0.949129   4351.000000\n",
              "4              0.962121  0.966847  0.964478   4072.000000\n",
              "5              0.963288  0.954150  0.958697   3795.000000\n",
              "6              0.970820  0.981146  0.975956   4137.000000\n",
              "7              0.969030  0.959782  0.964384   4401.000000\n",
              "8              0.949864  0.946591  0.948225   4063.000000\n",
              "9              0.941205  0.940306  0.940755   4188.000000\n",
              "accuracy       0.962714  0.962714  0.962714      0.962714\n",
              "macro avg      0.962463  0.962476  0.962458  42000.000000\n",
              "weighted avg   0.962683  0.962714  0.962687  42000.000000"
            ]
          },
          "execution_count": 18,
          "metadata": {},
          "output_type": "execute_result"
        }
      ],
      "source": [
        "# 3E\n",
        "cr = classification_report(y_train, predictions, output_dict = True)\n",
        "df = pd.DataFrame(cr).T\n",
        "df"
      ]
    },
    {
      "cell_type": "markdown",
      "id": "c6264c54",
      "metadata": {
        "papermill": {
          "duration": 0.014011,
          "end_time": "2023-03-24T21:49:46.280747",
          "exception": false,
          "start_time": "2023-03-24T21:49:46.266736",
          "status": "completed"
        },
        "tags": [],
        "id": "c6264c54"
      },
      "source": [
        "## Predictions on New Observations\n",
        "\n",
        "This section utilizes the trained Random Forest model to generate predictions for new, unlabeled images from the 'digit-recognizer/test.csv' file.\n",
        "\n",
        "Load the new observations, sample a subset for prediction, and scale the pixel values."
      ]
    },
    {
      "cell_type": "code",
      "execution_count": null,
      "id": "6b435142",
      "metadata": {
        "execution": {
          "iopub.execute_input": "2023-03-24T21:49:46.311479Z",
          "iopub.status.busy": "2023-03-24T21:49:46.311008Z",
          "iopub.status.idle": "2023-03-24T21:49:48.555937Z",
          "shell.execute_reply": "2023-03-24T21:49:48.554302Z"
        },
        "papermill": {
          "duration": 2.264947,
          "end_time": "2023-03-24T21:49:48.560103",
          "exception": false,
          "start_time": "2023-03-24T21:49:46.295156",
          "status": "completed"
        },
        "tags": [],
        "id": "6b435142",
        "outputId": "62131dd0-14ad-49b0-8992-158cd3bbfe72"
      },
      "outputs": [
        {
          "name": "stdout",
          "output_type": "stream",
          "text": [
            "(16, 784)\n"
          ]
        }
      ],
      "source": [
        "# 4A\n",
        "df_new = pd.read_csv('test.csv')\n",
        "df_new = df_new.sample(n=16, random_state=4)\n",
        "X_new = df_new.values / 255\n",
        "print(X_new.shape)"
      ]
    },
    {
      "cell_type": "markdown",
      "id": "ea0b25c9",
      "metadata": {
        "papermill": {
          "duration": 0.015246,
          "end_time": "2023-03-24T21:49:48.590833",
          "exception": false,
          "start_time": "2023-03-24T21:49:48.575587",
          "status": "completed"
        },
        "tags": [],
        "id": "ea0b25c9"
      },
      "source": [
        "Visualize the sampled new observations."
      ]
    },
    {
      "cell_type": "code",
      "execution_count": null,
      "id": "0b6bcc08",
      "metadata": {
        "execution": {
          "iopub.execute_input": "2023-03-24T21:49:48.622018Z",
          "iopub.status.busy": "2023-03-24T21:49:48.621549Z",
          "iopub.status.idle": "2023-03-24T21:49:49.371735Z",
          "shell.execute_reply": "2023-03-24T21:49:49.370081Z"
        },
        "papermill": {
          "duration": 0.769981,
          "end_time": "2023-03-24T21:49:49.375028",
          "exception": false,
          "start_time": "2023-03-24T21:49:48.605047",
          "status": "completed"
        },
        "tags": [],
        "id": "0b6bcc08",
        "outputId": "520c6c22-7a89-4bea-d263-3763eaf91484"
      },
      "outputs": [
        {
          "data": {
            "image/png": "[encoded data removed]",
            "text/plain": [
              "<Figure size 640x480 with 16 Axes>"
            ]
          },
          "metadata": {},
          "output_type": "display_data"
        }
      ],
      "source": [
        "# 4B\n",
        "for i in range(16):\n",
        "    plt.subplot(4,4,i+1)\n",
        "    digit = X_new[i,:].reshape(28,28)\n",
        "    plt.imshow(digit, cmap='Greys')\n",
        "    plt.axis('off')\n",
        "plt.show()"
      ]
    },
    {
      "cell_type": "markdown",
      "id": "ea17a827",
      "metadata": {
        "papermill": {
          "duration": 0.014958,
          "end_time": "2023-03-24T21:49:49.406178",
          "exception": false,
          "start_time": "2023-03-24T21:49:49.391220",
          "status": "completed"
        },
        "tags": [],
        "id": "ea17a827"
      },
      "source": [
        "Generate and display predictions for the new observations."
      ]
    },
    {
      "cell_type": "code",
      "execution_count": null,
      "id": "2daa61f0",
      "metadata": {
        "execution": {
          "iopub.execute_input": "2023-03-24T21:49:49.439445Z",
          "iopub.status.busy": "2023-03-24T21:49:49.439015Z",
          "iopub.status.idle": "2023-03-24T21:49:49.465746Z",
          "shell.execute_reply": "2023-03-24T21:49:49.463791Z"
        },
        "papermill": {
          "duration": 0.046346,
          "end_time": "2023-03-24T21:49:49.468468",
          "exception": false,
          "start_time": "2023-03-24T21:49:49.422122",
          "status": "completed"
        },
        "tags": [],
        "id": "2daa61f0",
        "outputId": "d53f9eb9-d490-4def-c997-fad005b672be"
      },
      "outputs": [
        {
          "data": {
            "text/plain": [
              "array([[5, 0, 7, 1],\n",
              "       [6, 6, 7, 1],\n",
              "       [7, 3, 5, 1],\n",
              "       [3, 6, 4, 9]], dtype=int64)"
            ]
          },
          "execution_count": 21,
          "metadata": {},
          "output_type": "execute_result"
        }
      ],
      "source": [
        "# 4C\n",
        "preds = rf_clf.predict(X_new).reshape(4,4)\n",
        "preds\n",
        "# preds_array = preds.reshape(4,4)\n",
        "# preds_array"
      ]
    },
    {
      "cell_type": "markdown",
      "id": "6c7f5397",
      "metadata": {
        "papermill": {
          "duration": 0.014857,
          "end_time": "2023-03-24T21:49:49.498730",
          "exception": false,
          "start_time": "2023-03-24T21:49:49.483873",
          "status": "completed"
        },
        "tags": [],
        "id": "6c7f5397"
      },
      "source": [
        "**Analysis of Predictions on New Observations**"
      ]
    },
    {
      "cell_type": "markdown",
      "id": "bc2af716",
      "metadata": {
        "papermill": {
          "duration": 0.014863,
          "end_time": "2023-03-24T21:49:49.528632",
          "exception": false,
          "start_time": "2023-03-24T21:49:49.513769",
          "status": "completed"
        },
        "tags": [],
        "id": "bc2af716"
      },
      "source": [
        "For our chose sample, the model was least confident on the digit 3 and generated an incorrect prediction for this observation as seen in index six[0-15].This may be due to the subtleness of the bottom half of the digit \"3\", as it was pictured above. The model likely interpreted this as a vertical line. We see below that prediction in index six, the interpretation for the handwritten digit 3, had a roughly 25% chance of being 3, an 8, a 7, vs everything else. Since the model predicted a .29 (29%) confidence for the digit as a 7, that became it's final prediction of the handwritten 3.\n",
        "\n",
        "Despite this, we see the model predicted every other number perfectly. On this observed sample, we have a 94% accuracy."
      ]
    },
    {
      "cell_type": "code",
      "execution_count": null,
      "id": "28792d0f",
      "metadata": {
        "execution": {
          "iopub.execute_input": "2023-03-24T21:49:49.560695Z",
          "iopub.status.busy": "2023-03-24T21:49:49.560260Z",
          "iopub.status.idle": "2023-03-24T21:49:49.585042Z",
          "shell.execute_reply": "2023-03-24T21:49:49.583021Z"
        },
        "papermill": {
          "duration": 0.044561,
          "end_time": "2023-03-24T21:49:49.588276",
          "exception": false,
          "start_time": "2023-03-24T21:49:49.543715",
          "status": "completed"
        },
        "scrolled": true,
        "tags": [],
        "id": "28792d0f",
        "outputId": "8459659a-5aad-4f79-b43a-7ea44f91543b"
      },
      "outputs": [
        {
          "data": {
            "text/plain": [
              "array([[0.  , 0.  , 0.  , 0.02, 0.02, 0.88, 0.01, 0.  , 0.02, 0.03],\n",
              "       [0.99, 0.  , 0.  , 0.01, 0.  , 0.  , 0.  , 0.  , 0.  , 0.  ],\n",
              "       [0.  , 0.09, 0.05, 0.08, 0.  , 0.01, 0.  , 0.74, 0.01, 0.02],\n",
              "       [0.  , 0.99, 0.  , 0.  , 0.  , 0.  , 0.01, 0.  , 0.  , 0.  ],\n",
              "       [0.  , 0.  , 0.  , 0.  , 0.  , 0.  , 1.  , 0.  , 0.  , 0.  ],\n",
              "       [0.  , 0.  , 0.  , 0.01, 0.  , 0.  , 0.99, 0.  , 0.  , 0.  ],\n",
              "       [0.  , 0.01, 0.06, 0.23, 0.02, 0.02, 0.01, 0.29, 0.23, 0.13],\n",
              "       [0.  , 0.94, 0.  , 0.02, 0.  , 0.01, 0.  , 0.  , 0.03, 0.  ],\n",
              "       [0.  , 0.17, 0.33, 0.07, 0.01, 0.  , 0.  , 0.36, 0.03, 0.02],\n",
              "       [0.  , 0.  , 0.01, 0.91, 0.  , 0.05, 0.  , 0.  , 0.03, 0.  ],\n",
              "       [0.01, 0.01, 0.02, 0.08, 0.06, 0.55, 0.04, 0.01, 0.11, 0.11],\n",
              "       [0.  , 0.97, 0.01, 0.01, 0.  , 0.  , 0.  , 0.  , 0.  , 0.  ],\n",
              "       [0.  , 0.  , 0.  , 0.95, 0.  , 0.02, 0.  , 0.  , 0.01, 0.02],\n",
              "       [0.01, 0.01, 0.  , 0.01, 0.02, 0.01, 0.94, 0.  , 0.  , 0.  ],\n",
              "       [0.01, 0.  , 0.  , 0.  , 0.7 , 0.06, 0.01, 0.1 , 0.01, 0.1 ],\n",
              "       [0.  , 0.  , 0.  , 0.  , 0.04, 0.  , 0.01, 0.  , 0.  , 0.95]])"
            ]
          },
          "execution_count": 22,
          "metadata": {},
          "output_type": "execute_result"
        }
      ],
      "source": [
        "# 4E\n",
        "preds = rf_clf.predict_proba(X_new)\n",
        "rounded_preds = preds.round(2)\n",
        "rounded_preds"
      ]
    },
    {
      "cell_type": "markdown",
      "id": "75820313",
      "metadata": {
        "papermill": {
          "duration": 0.016419,
          "end_time": "2023-03-24T21:49:49.620188",
          "exception": false,
          "start_time": "2023-03-24T21:49:49.603769",
          "status": "completed"
        },
        "tags": [],
        "id": "75820313"
      },
      "source": [
        "Determine the model's confidence in its predictions by identifying the largest probability value for each observation."
      ]
    },
    {
      "cell_type": "code",
      "execution_count": null,
      "id": "710e01f4",
      "metadata": {
        "execution": {
          "iopub.execute_input": "2023-03-24T21:49:49.655641Z",
          "iopub.status.busy": "2023-03-24T21:49:49.655211Z",
          "iopub.status.idle": "2023-03-24T21:49:49.661865Z",
          "shell.execute_reply": "2023-03-24T21:49:49.660291Z"
        },
        "papermill": {
          "duration": 0.029566,
          "end_time": "2023-03-24T21:49:49.666277",
          "exception": false,
          "start_time": "2023-03-24T21:49:49.636711",
          "status": "completed"
        },
        "tags": [],
        "id": "710e01f4",
        "outputId": "6c9bbbe3-101b-414b-d6e6-8d4ec7a4105e"
      },
      "outputs": [
        {
          "name": "stdout",
          "output_type": "stream",
          "text": [
            "largest value stacked \n",
            " [[0.88]\n",
            " [0.99]\n",
            " [0.74]\n",
            " [0.99]\n",
            " [1.  ]\n",
            " [0.99]\n",
            " [0.29]\n",
            " [0.94]\n",
            " [0.36]\n",
            " [0.91]\n",
            " [0.55]\n",
            " [0.97]\n",
            " [0.95]\n",
            " [0.94]\n",
            " [0.7 ]\n",
            " [0.95]]\n",
            "sorted [0.29 0.36 0.55 0.7  0.74 0.88 0.91 0.94 0.94 0.95 0.95 0.97 0.99 0.99\n",
            " 0.99 1.  ]\n"
          ]
        }
      ],
      "source": [
        "# 4F\n",
        "\n",
        "probs= np.max(rounded_preds, axis=1)\n",
        "maxprobs = np.vstack(probs)\n",
        "print('largest value stacked','\\n',maxprobs)\n",
        "sort = np.sort(maxprobs, axis=None)\n",
        "print('sorted',sort)"
      ]
    },
    {
      "cell_type": "code",
      "execution_count": null,
      "id": "8bfb414a",
      "metadata": {
        "id": "8bfb414a",
        "outputId": "10baf452-1ec3-4485-e84f-3d833d2afbb4"
      },
      "outputs": [
        {
          "data": {
            "text/plain": [
              "array([[5, 0, 7, 1],\n",
              "       [6, 6, 7, 1],\n",
              "       [7, 3, 5, 1],\n",
              "       [3, 6, 4, 9]], dtype=int64)"
            ]
          },
          "execution_count": 24,
          "metadata": {},
          "output_type": "execute_result"
        }
      ],
      "source": [
        "#4F (additional)\n",
        "np.argmax(rounded_preds, axis=1).reshape(4,4)"
      ]
    },
    {
      "cell_type": "markdown",
      "id": "863a485b",
      "metadata": {
        "papermill": {
          "duration": 0.015773,
          "end_time": "2023-03-24T21:49:49.699797",
          "exception": false,
          "start_time": "2023-03-24T21:49:49.684024",
          "status": "completed"
        },
        "tags": [],
        "id": "863a485b"
      },
      "source": [
        "The model exhibited the least confidence in its predictions for observations in index position[0-15]: six, eight, and ten, in increasing order of confidence. This suggests that these observations may be more challenging to classify accurately."
      ]
    }
  ],
  "metadata": {
    "kernelspec": {
      "display_name": "Python 3 (ipykernel)",
      "language": "python",
      "name": "python3"
    },
    "language_info": {
      "codemirror_mode": {
        "name": "ipython",
        "version": 3
      },
      "file_extension": ".py",
      "mimetype": "text/x-python",
      "name": "python",
      "nbconvert_exporter": "python",
      "pygments_lexer": "ipython3",
      "version": "3.11.5"
    },
    "papermill": {
      "default_parameters": {},
      "duration": 633.450814,
      "end_time": "2023-03-24T21:50:11.792589",
      "environment_variables": {},
      "exception": null,
      "input_path": "__notebook__.ipynb",
      "output_path": "__notebook__.ipynb",
      "parameters": {},
      "start_time": "2023-03-24T21:39:38.341775",
      "version": "2.4.0"
    },
    "colab": {
      "provenance": []
    }
  },
  "nbformat": 4,
  "nbformat_minor": 5
}